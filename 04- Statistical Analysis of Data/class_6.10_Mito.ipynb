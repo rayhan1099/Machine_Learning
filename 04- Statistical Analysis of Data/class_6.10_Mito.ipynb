{
 "cells": [
  {
   "cell_type": "markdown",
   "id": "74833738",
   "metadata": {},
   "source": [
    "# Mito Python Package: The Data Scientist’s Spreadsheet"
   ]
  },
  {
   "cell_type": "markdown",
   "id": "6d9d9fac",
   "metadata": {},
   "source": [
    "With Mito, you can perform spreadsheet and Data Science operations such as:\n",
    "\n",
    "Pivoting, Graphing, Spreadsheet Formulas, Editing specific cells in the DataFrame,Merging\n",
    "\n",
    "Deduplicate, See summary stats, Filtering, Sorting, Adding and Deleting Columns\n",
    "\n",
    "and more!"
   ]
  },
  {
   "cell_type": "code",
   "execution_count": 8,
   "id": "c20e6a93",
   "metadata": {},
   "outputs": [],
   "source": [
    "#!python -m pip install mitoinstaller\n",
    "#!python -m mitoinstaller install"
   ]
  },
  {
   "cell_type": "code",
   "execution_count": 5,
   "id": "1028740a",
   "metadata": {},
   "outputs": [],
   "source": [
    "#!pip install mitosheet"
   ]
  },
  {
   "cell_type": "code",
   "execution_count": null,
   "id": "a3c8bb04",
   "metadata": {},
   "outputs": [],
   "source": [
    "import mitosheet as mt\n",
    "mt.sheet(analysis_to_replay=\"id-zrycobqcxc\")"
   ]
  },
  {
   "cell_type": "code",
   "execution_count": null,
   "id": "494b793d",
   "metadata": {},
   "outputs": [],
   "source": []
  }
 ],
 "metadata": {
  "kernelspec": {
   "display_name": "Python 3 (ipykernel)",
   "language": "python",
   "name": "python3"
  },
  "language_info": {
   "codemirror_mode": {
    "name": "ipython",
    "version": 3
   },
   "file_extension": ".py",
   "mimetype": "text/x-python",
   "name": "python",
   "nbconvert_exporter": "python",
   "pygments_lexer": "ipython3",
   "version": "3.9.12"
  }
 },
 "nbformat": 4,
 "nbformat_minor": 5
}
