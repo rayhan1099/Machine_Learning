{
 "cells": [
  {
   "cell_type": "markdown",
   "metadata": {},
   "source": [
    "# Implementing PCA with Scikit-Learn"
   ]
  },
  {
   "cell_type": "raw",
   "metadata": {},
   "source": [
    "In this section we will implement PCA with the help of Python's Scikit-Learn library. We will follow the classic machine learning pipeline where we will first import libraries and dataset, perform exploratory data analysis and preprocessing, and finally train our models, make predictions and evaluate accuracies. The only additional step will be to perform PCA to find out optimal number of features before we train our models."
   ]
  },
  {
   "cell_type": "markdown",
   "metadata": {},
   "source": [
    "https://stackabuse.com/implementing-pca-in-python-with-scikit-learn/"
   ]
  },
  {
   "cell_type": "markdown",
   "metadata": {},
   "source": [
    "# Importing Libraries"
   ]
  },
  {
   "cell_type": "code",
   "execution_count": 1,
   "metadata": {},
   "outputs": [],
   "source": [
    "import numpy as np\n",
    "import pandas as pd\n",
    "from matplotlib import pyplot as plt"
   ]
  },
  {
   "cell_type": "markdown",
   "metadata": {},
   "source": [
    "# Importing Dataset"
   ]
  },
  {
   "cell_type": "code",
   "execution_count": 11,
   "metadata": {},
   "outputs": [],
   "source": [
    "url = \"https://archive.ics.uci.edu/ml/machine-learning-databases/iris/iris.data\"\n",
    "names = ['sepal-length', 'sepal-width', 'petal-length', 'petal-width', 'Class']\n",
    "dataset = pd.read_csv(url, names=names)"
   ]
  },
  {
   "cell_type": "code",
   "execution_count": 12,
   "metadata": {
    "scrolled": true
   },
   "outputs": [
    {
     "data": {
      "text/html": [
       "<div>\n",
       "<style scoped>\n",
       "    .dataframe tbody tr th:only-of-type {\n",
       "        vertical-align: middle;\n",
       "    }\n",
       "\n",
       "    .dataframe tbody tr th {\n",
       "        vertical-align: top;\n",
       "    }\n",
       "\n",
       "    .dataframe thead th {\n",
       "        text-align: right;\n",
       "    }\n",
       "</style>\n",
       "<table border=\"1\" class=\"dataframe\">\n",
       "  <thead>\n",
       "    <tr style=\"text-align: right;\">\n",
       "      <th></th>\n",
       "      <th>sepal-length</th>\n",
       "      <th>sepal-width</th>\n",
       "      <th>petal-length</th>\n",
       "      <th>petal-width</th>\n",
       "      <th>Class</th>\n",
       "    </tr>\n",
       "  </thead>\n",
       "  <tbody>\n",
       "    <tr>\n",
       "      <th>0</th>\n",
       "      <td>5.1</td>\n",
       "      <td>3.5</td>\n",
       "      <td>1.4</td>\n",
       "      <td>0.2</td>\n",
       "      <td>Iris-setosa</td>\n",
       "    </tr>\n",
       "    <tr>\n",
       "      <th>1</th>\n",
       "      <td>4.9</td>\n",
       "      <td>3.0</td>\n",
       "      <td>1.4</td>\n",
       "      <td>0.2</td>\n",
       "      <td>Iris-setosa</td>\n",
       "    </tr>\n",
       "    <tr>\n",
       "      <th>2</th>\n",
       "      <td>4.7</td>\n",
       "      <td>3.2</td>\n",
       "      <td>1.3</td>\n",
       "      <td>0.2</td>\n",
       "      <td>Iris-setosa</td>\n",
       "    </tr>\n",
       "    <tr>\n",
       "      <th>3</th>\n",
       "      <td>4.6</td>\n",
       "      <td>3.1</td>\n",
       "      <td>1.5</td>\n",
       "      <td>0.2</td>\n",
       "      <td>Iris-setosa</td>\n",
       "    </tr>\n",
       "    <tr>\n",
       "      <th>4</th>\n",
       "      <td>5.0</td>\n",
       "      <td>3.6</td>\n",
       "      <td>1.4</td>\n",
       "      <td>0.2</td>\n",
       "      <td>Iris-setosa</td>\n",
       "    </tr>\n",
       "  </tbody>\n",
       "</table>\n",
       "</div>"
      ],
      "text/plain": [
       "   sepal-length  sepal-width  petal-length  petal-width        Class\n",
       "0           5.1          3.5           1.4          0.2  Iris-setosa\n",
       "1           4.9          3.0           1.4          0.2  Iris-setosa\n",
       "2           4.7          3.2           1.3          0.2  Iris-setosa\n",
       "3           4.6          3.1           1.5          0.2  Iris-setosa\n",
       "4           5.0          3.6           1.4          0.2  Iris-setosa"
      ]
     },
     "execution_count": 12,
     "metadata": {},
     "output_type": "execute_result"
    }
   ],
   "source": [
    "dataset.head()\n",
    "#print(dataset)"
   ]
  },
  {
   "cell_type": "markdown",
   "metadata": {},
   "source": [
    "# Preprocessing"
   ]
  },
  {
   "cell_type": "code",
   "execution_count": 13,
   "metadata": {},
   "outputs": [
    {
     "name": "stdout",
     "output_type": "stream",
     "text": [
      "['Iris-setosa' 'Iris-versicolor' 'Iris-virginica']\n"
     ]
    }
   ],
   "source": [
    "X = dataset.drop('Class', 1)\n",
    "#print(X)\n",
    "\n",
    "y = dataset['Class']\n",
    "#print(y)\n",
    "target=y.unique()\n",
    "print(target)"
   ]
  },
  {
   "cell_type": "code",
   "execution_count": 14,
   "metadata": {},
   "outputs": [],
   "source": [
    "# Splitting the dataset into the Training set and Test set\n",
    "from sklearn.model_selection import train_test_split\n",
    "#from sklearn.cross_validation import train_test_split # Depricated\n",
    "\n",
    "X_train, X_test, y_train, y_test = train_test_split(X, y, test_size=0.2, random_state=0)"
   ]
  },
  {
   "cell_type": "markdown",
   "metadata": {},
   "source": [
    "# PCA performs best with a normalized feature set"
   ]
  },
  {
   "cell_type": "code",
   "execution_count": 16,
   "metadata": {},
   "outputs": [],
   "source": [
    "from sklearn.preprocessing import StandardScaler\n",
    "\n",
    "sc = StandardScaler()\n",
    "X_train = sc.fit_transform(X_train)\n",
    "X_test = sc.transform(X_test)"
   ]
  },
  {
   "cell_type": "markdown",
   "metadata": {},
   "source": [
    "# Training and Making Predictions with RandomForestClassifier"
   ]
  },
  {
   "cell_type": "code",
   "execution_count": 17,
   "metadata": {},
   "outputs": [],
   "source": [
    "from sklearn.ensemble import RandomForestClassifier\n",
    "\n",
    "classifier = RandomForestClassifier(max_depth=2, random_state=0)\n",
    "classifier.fit(X_train, y_train)\n",
    "\n",
    "# Predicting the Test set results\n",
    "y_pred = classifier.predict(X_test)"
   ]
  },
  {
   "cell_type": "markdown",
   "metadata": {},
   "source": [
    "fit means to fit the model to the data being provided. This is where the model \"learns\" from the data.\n",
    "\n",
    "transform means to transform the data (produce model outputs) according to the fitted model.\n",
    "\n",
    "fit_transform means to do both - Fit the model to the data, then transform the data according to the fitted model. Calling fit_transform is a convenience to avoid needing to call fit and transform sequentially on the same input."
   ]
  },
  {
   "cell_type": "markdown",
   "metadata": {},
   "source": [
    "# Performance Evaluation : Without PCA"
   ]
  },
  {
   "cell_type": "code",
   "execution_count": 18,
   "metadata": {},
   "outputs": [
    {
     "name": "stdout",
     "output_type": "stream",
     "text": [
      "[[11  0  0]\n",
      " [ 0 13  0]\n",
      " [ 0  2  4]]\n",
      "0.9333333333333333\n"
     ]
    }
   ],
   "source": [
    "from sklearn.metrics import confusion_matrix\n",
    "from sklearn.metrics import accuracy_score\n",
    "\n",
    "cm = confusion_matrix(y_test, y_pred)\n",
    "print(cm)\n",
    "\n",
    "accuracy=accuracy_score(y_test, y_pred)\n",
    "print(accuracy)"
   ]
  },
  {
   "cell_type": "markdown",
   "metadata": {},
   "source": [
    "# PCA "
   ]
  },
  {
   "cell_type": "raw",
   "metadata": {},
   "source": [
    "Applying PCA\n",
    "-------------------------------------------------------\n",
    "Performing PCA using Scikit-Learn is a two-step process:\n",
    "\n",
    "1. Initialize the PCA class by passing the number of components to the constructor.\n",
    "2. Call the fit and then transform methods by passing the feature set to these methods. \n",
    "   The transform method returns the specified number of principal components."
   ]
  },
  {
   "cell_type": "raw",
   "metadata": {},
   "source": [
    "PCA depends only upon the feature set and not the label data.\n",
    "Therefore, PCA can be considered as an unsupervised machine learning technique."
   ]
  },
  {
   "cell_type": "code",
   "execution_count": 21,
   "metadata": {},
   "outputs": [
    {
     "name": "stdout",
     "output_type": "stream",
     "text": [
      "[[ 1.27228206e+00  3.57878727e-01  1.80336960e-01 -2.18683823e-01]\n",
      " [ 1.52231770e-01 -2.99835283e-01  6.57129626e-01 -2.49320747e-01]\n",
      " [-2.18764183e+00  6.17154256e-01 -1.80887051e-01  3.66971080e-03]\n",
      " [ 9.41913396e-01  1.21810481e-02  3.29616253e-01 -1.23928051e-02]\n",
      " [ 1.76227837e+00 -2.71066387e-01  3.36678920e-01  9.29947613e-02]\n",
      " [-8.16806401e-02 -1.04319475e+00  5.24835677e-01 -2.98705715e-02]\n",
      " [-1.89794863e+00  1.48464927e+00 -3.40792097e-01  5.29711669e-02]\n",
      " [ 9.59395493e-01 -6.91087802e-01  9.92861246e-02 -1.91468714e-01]\n",
      " [ 3.65661204e-01 -9.13013087e-02  2.01390351e-01  3.40875107e-02]\n",
      " [ 2.31845912e-01 -1.01891237e+00 -2.00913311e-01 -8.50013948e-03]\n",
      " [ 1.79730127e+00  3.25092688e-01  1.91532698e-02  1.34801794e-01]\n",
      " [-2.40350676e+00 -2.44874760e-01  5.92229980e-02  2.37226169e-02]\n",
      " [ 1.82199968e+00  5.93295049e-01  1.17097508e-01  4.56362917e-01]\n",
      " [-1.98427118e+00  5.55515137e-01  3.20523633e-01  1.76697191e-01]\n",
      " [-2.17073306e+00  1.13527621e+00 -2.37617027e-01  1.04411370e-02]\n",
      " [-2.55598076e-01 -2.67039928e+00 -6.16938901e-02 -2.71308286e-03]\n",
      " [ 1.38862320e+00  1.82768524e-01  3.66364728e-02 -1.62546239e-01]\n",
      " [ 1.93409268e+00  9.57133382e-01  6.16059661e-01  2.13596445e-01]\n",
      " [ 1.12243099e+00 -1.78242941e+00 -2.77782823e-01 -8.40767271e-02]\n",
      " [ 1.88169499e+00 -8.17365689e-01 -3.98192166e-01 -1.05743278e-01]\n",
      " [ 5.43123767e-02 -1.32586239e+00 -1.75245784e-01 -6.61351921e-02]\n",
      " [ 2.70365641e+00  7.16489102e-01 -5.43580192e-01  2.72165328e-01]\n",
      " [ 6.91516012e-01  7.35561284e-01  1.53093629e-01 -8.09726962e-02]\n",
      " [ 1.30048660e-02 -1.58537102e+00 -1.55405991e-01 -2.46542338e-02]\n",
      " [ 1.22853905e+00 -5.55124947e-01 -1.54524722e-02  1.26258299e-01]\n",
      " [ 1.01881714e+00 -3.53542050e-01 -1.81349342e-01 -1.97914066e-01]\n",
      " [ 2.57616370e-01 -1.58420817e+00  9.59364572e-01 -1.27540588e-01]\n",
      " [ 1.44310720e+00 -9.83382473e-01 -4.20577731e-02  2.03497861e-01]\n",
      " [ 1.03458720e+00  8.01371405e-01 -6.67213292e-01  1.50260559e-02]\n",
      " [ 1.43772035e+00  1.92357562e-01  1.71470894e-01  1.10762500e-01]\n",
      " [ 3.84673096e-01  8.25825403e-01  4.51809202e-01 -1.06900235e-01]\n",
      " [-2.18860624e+00 -4.18642000e-01 -5.89019039e-02 -5.47398130e-02]\n",
      " [ 1.05608476e+00 -7.58640575e-01  5.11966610e-01 -4.29289250e-02]\n",
      " [ 1.92641524e-01 -8.79416243e-01  1.26075308e-01 -1.14778353e-01]\n",
      " [-1.12363985e-01 -4.47930988e-01  1.90259637e-01  1.01669804e-01]\n",
      " [ 1.72424265e-01 -1.35645812e+00  7.97221562e-02 -2.05478775e-03]\n",
      " [ 5.48040969e-01 -1.10259170e-02 -1.67793468e-02 -1.55210240e-01]\n",
      " [ 1.88178641e+00  9.13005688e-01 -4.07631216e-01 -2.31299926e-01]\n",
      " [-2.23313082e+00  1.09330082e+00 -1.51584289e-01 -1.93205117e-02]\n",
      " [-2.68474557e+00 -8.53308800e-01  1.90763056e-01 -2.21931261e-02]\n",
      " [ 1.49617758e+00 -5.05892942e-01  1.28205743e-02  4.59076244e-02]\n",
      " [ 1.93808918e-02 -1.91650085e-01  1.32840816e-01 -2.33498873e-01]\n",
      " [-1.94319667e+00  4.84914749e-01 -3.93569886e-01 -1.64399001e-04]\n",
      " [-2.21348689e+00  2.79173351e+00  6.83690147e-02  5.38032583e-02]\n",
      " [ 1.16566733e+00  5.48671737e-01 -5.41592910e-01 -8.73863778e-03]\n",
      " [-2.34625489e+00 -5.03040429e-01  1.04638376e-01 -6.93964390e-02]\n",
      " [ 8.82824123e-01 -7.08744182e-02  5.18732118e-01 -1.61649445e-01]\n",
      " [-5.53354567e-01 -1.53976821e+00  1.78191148e-01  1.88856607e-01]\n",
      " [-2.46710989e+00  1.53234687e-01  3.49321434e-01 -3.43032122e-02]\n",
      " [ 1.08296089e+00 -1.70071690e+00 -4.92474274e-01  1.99779927e-01]\n",
      " [ 2.21566386e+00  1.82005771e+00  3.93000002e-01  1.03810196e-01]\n",
      " [ 1.47152532e-01 -4.03269675e-01  1.55378070e-01 -1.37768576e-01]\n",
      " [-2.27419738e+00 -6.42088899e-01 -2.13825047e-01 -7.98489679e-03]\n",
      " [ 2.11590706e+00  4.52809468e-01 -2.04844163e-01  4.46200545e-02]\n",
      " [ 1.96517506e+00  8.13066565e-01  2.25916429e-01  1.60786953e-01]\n",
      " [ 1.78249563e+00  2.05975489e-01  3.83032072e-01 -1.97288041e-02]\n",
      " [ 1.68845011e+00 -2.76532388e-01  2.56473917e-01  2.36403990e-02]\n",
      " [-2.37901660e+00  1.22688329e+00  8.66741311e-02 -1.50086416e-01]\n",
      " [-2.35043637e+00  2.32614770e-01  1.14101345e-01 -1.33867620e-01]\n",
      " [ 1.29698047e+00  6.26081088e-01  2.78281198e-01  1.02877300e-01]\n",
      " [ 1.63877963e+00  9.35269379e-01  2.95239647e-01 -6.38210043e-02]\n",
      " [-1.96898362e+00 -2.27712985e+00 -2.07516271e-01  2.70937102e-01]\n",
      " [ 1.32194459e+00  9.52067070e-01  9.17905507e-01  3.43035552e-02]\n",
      " [-2.13797135e+00 -5.94647511e-01 -2.19652782e-01  9.11311142e-02]\n",
      " [ 1.14254888e+00 -1.22976880e+00  5.54343657e-01  9.42823312e-02]\n",
      " [ 1.77290253e+00  5.83706011e-01 -1.77369134e-02  1.83054179e-01]\n",
      " [-2.59070005e+00 -3.70800923e-01  3.17321211e-01 -6.55623292e-02]\n",
      " [-2.39923386e+00  7.49841417e-01  4.03209789e-02 -3.73628508e-02]\n",
      " [ 1.77631039e+00  4.67007198e-01 -7.00427113e-01 -2.27523437e-01]\n",
      " [-2.20906445e+00  5.80197215e-01 -2.31745051e-02  8.81290958e-02]\n",
      " [-2.48281329e+00 -8.04972103e-01  2.01985712e-01 -1.28104580e-02]\n",
      " [-2.06525704e+00  1.58127470e+00  5.51788697e-02  6.66464740e-03]\n",
      " [ 2.80311020e-01 -1.79062930e+00 -3.56133433e-02  5.06970835e-02]\n",
      " [ 1.96848355e+00  7.71986487e-01  3.28999557e-01  4.12919616e-02]\n",
      " [ 2.65786776e+00  6.65819985e-01 -5.75331485e-01 -1.20638402e-01]\n",
      " [-2.28289272e+00  5.74731214e-01 -1.03379509e-01  1.87747335e-02]\n",
      " [-2.23288987e+00 -3.82580267e-01 -2.33664840e-01 -4.94658551e-02]\n",
      " [-2.16655158e+00  3.99621011e-01 -2.47079996e-01  7.49123178e-02]\n",
      " [ 2.99655286e-01 -6.19012302e-01  1.23285906e-01 -2.45992654e-01]\n",
      " [ 7.94323529e-01  1.97955712e-01 -4.63993426e-01  8.33313466e-02]\n",
      " [-2.24916660e+00 -1.19396252e-01 -2.07400410e-01  1.57874234e-01]\n",
      " [-1.85496180e+00  1.58300998e-01  4.74755879e-02  1.44989677e-01]\n",
      " [ 6.16789994e-01 -1.08994308e-01 -4.38325899e-01  2.56962939e-02]\n",
      " [-1.86124640e+00  4.94951442e-01 -2.50210269e-01  2.28277668e-01]\n",
      " [ 3.18225493e+00 -1.48272024e-01 -7.06049629e-01  1.87356995e-02]\n",
      " [-5.99475599e-01 -1.84492762e+00  2.37959456e-01 -4.82451312e-02]\n",
      " [ 2.27397951e+00  2.52206956e+00 -4.69343094e-01 -2.21981960e-01]\n",
      " [ 8.02777914e-01  4.57016689e-01 -4.92358414e-01  8.67170597e-02]\n",
      " [-2.58513035e+00  1.91420180e+00  8.49144440e-02 -2.23940265e-01]\n",
      " [ 8.46662508e-01 -3.02419937e-02  4.07123795e-01  2.71221758e-03]\n",
      " [-2.18153152e+00  1.95309157e+00 -4.34320314e-01  1.84959939e-01]\n",
      " [ 2.78717714e+00  2.68605846e-01 -8.48379530e-01 -1.52345916e-01]\n",
      " [-2.33804146e+00  1.23190164e+00  1.58353939e-01 -3.58653825e-02]\n",
      " [-2.30494738e+00 -2.43531797e-01  8.47985836e-02 -1.10877397e-01]\n",
      " [ 2.32903683e+00  1.34527758e-01 -7.21637492e-01 -4.17851954e-02]\n",
      " [-2.23740372e+00  9.85846464e-02 -1.32682270e-01  4.17649560e-02]\n",
      " [ 1.52387687e+00  1.00040377e+00  9.29128163e-01  4.36862233e-02]\n",
      " [ 1.68242783e-01 -6.20802919e-01  8.91851252e-02 -6.65259686e-02]\n",
      " [ 1.45049409e-01 -8.02274431e-01 -1.51770756e-01  9.99059633e-03]\n",
      " [-1.42474004e-01 -1.07405803e+00 -3.17916556e-01  4.73628444e-02]\n",
      " [ 1.52177374e+00  6.01399011e-01  6.21979337e-01  1.91445395e-01]\n",
      " [ 1.78400066e+00  2.92706339e-01  2.40020429e-01  3.78348884e-01]\n",
      " [ 1.11494102e+00 -1.00569413e+00 -3.71402982e-01 -2.90529164e-02]\n",
      " [ 1.27532483e+00  2.59015027e-01 -2.58259982e-01  5.19560535e-02]\n",
      " [-2.00986734e+00 -5.51776815e-01 -2.88635129e-01  3.11594200e-02]\n",
      " [-9.36765222e-02 -1.59128467e+00 -2.44136189e-01 -4.91419246e-02]\n",
      " [ 1.93529805e+00  5.17048547e-01  4.11993963e-01  2.41860625e-01]\n",
      " [ 1.05608476e+00 -7.58640575e-01  5.11966610e-01 -4.29289250e-02]\n",
      " [-2.19609621e+00  3.58093278e-01 -1.52522063e-01  2.83997703e-04]\n",
      " [ 8.40144896e-01 -2.37005702e-02 -5.84815789e-01 -4.93804229e-02]\n",
      " [-2.04173388e-03 -2.28607127e-01  2.90553362e-01 -1.49039489e-01]\n",
      " [ 6.76377991e-01  3.61953799e-01  6.08492032e-01 -7.98013024e-02]\n",
      " [ 9.10905621e-01 -1.45303558e+00 -6.89774464e-01  1.09323587e-01]\n",
      " [-2.06615479e+00  7.42185110e-01 -4.56035655e-01  1.82688000e-01]\n",
      " [-2.21026982e+00  1.02028205e+00  1.80891193e-01  5.98649153e-02]\n",
      " [-2.23288987e+00 -3.82580267e-01 -2.33664840e-01 -4.94658551e-02]\n",
      " [ 1.35062418e+00 -1.17820187e-01  1.59559394e-01 -2.40560272e-01]\n",
      " [ 6.30991357e-02 -8.12311123e-01 -2.95130373e-01 -2.18451471e-01]\n",
      " [ 2.39539989e+00  2.45039375e+00 -1.11292026e-01 -2.77396547e-01]\n",
      " [-2.43305139e+00 -2.86402494e-01  1.53780931e-01 -5.09057032e-02]]\n"
     ]
    }
   ],
   "source": [
    "from sklearn.decomposition import PCA\n",
    "pca = PCA()               # All components\n",
    "#pca = PCA(n_components=1)  # 1 components\n",
    "#pca = PCA(n_components=2) # 2 components\n",
    "X_train = pca.fit_transform(X_train)\n",
    "X_test = pca.transform(X_test)\n",
    "#print(pca)\n",
    "print(X_train)"
   ]
  },
  {
   "cell_type": "raw",
   "metadata": {},
   "source": [
    "The PCA class contains explained_variance_ratio_\n",
    "which returns the variance caused by each of the principal components."
   ]
  },
  {
   "cell_type": "code",
   "execution_count": 20,
   "metadata": {},
   "outputs": [
    {
     "name": "stdout",
     "output_type": "stream",
     "text": [
      "[0.72226528 0.23974795 0.03338117 0.0046056 ]\n"
     ]
    }
   ],
   "source": [
    "explained_variance = pca.explained_variance_ratio_\n",
    "print(explained_variance)"
   ]
  },
  {
   "cell_type": "markdown",
   "metadata": {},
   "source": [
    "# Visualization"
   ]
  },
  {
   "cell_type": "markdown",
   "metadata": {},
   "source": [
    " integer encode : Category to integer"
   ]
  },
  {
   "cell_type": "code",
   "execution_count": 22,
   "metadata": {},
   "outputs": [
    {
     "name": "stdout",
     "output_type": "stream",
     "text": [
      "[2 1 0 2 2 1 0 1 1 1 2 0 2 0 0 1 2 2 2 2 1 2 1 1 2 2 2 2 1 2 1 0 2 1 1 1 1\n",
      " 2 0 0 2 1 0 0 1 0 2 1 0 1 2 1 0 2 2 2 2 0 0 2 2 0 2 0 2 2 0 0 2 0 0 0 1 2\n",
      " 2 0 0 0 1 1 0 0 1 0 2 1 2 1 0 2 0 2 0 0 2 0 2 1 1 1 2 2 1 1 0 1 2 2 0 1 1\n",
      " 1 1 0 0 0 2 1 2 0]\n"
     ]
    }
   ],
   "source": [
    "from sklearn.preprocessing import LabelEncoder\n",
    "#from sklearn.preprocessing import OneHotEncoder\n",
    "label_encoder = LabelEncoder()\n",
    "integer_encoded = label_encoder.fit_transform(y_train)\n",
    "print(integer_encoded)"
   ]
  },
  {
   "cell_type": "code",
   "execution_count": 23,
   "metadata": {},
   "outputs": [
    {
     "data": {
      "image/png": "[encoded data removed]",
      "text/plain": [
       "<Figure size 432x288 with 1 Axes>"
      ]
     },
     "metadata": {},
     "output_type": "display_data"
    }
   ],
   "source": [
    "plt.scatter(X_train[:,0], X_train[:,1], c = integer_encoded)\n",
    "plt.xlabel('PC1')\n",
    "plt.ylabel('PC2')\n",
    "plt.show()"
   ]
  },
  {
   "cell_type": "markdown",
   "metadata": {},
   "source": [
    "# Training and Making Predictions with RandomForestClassifier "
   ]
  },
  {
   "cell_type": "code",
   "execution_count": 24,
   "metadata": {},
   "outputs": [],
   "source": [
    "from sklearn.ensemble import RandomForestClassifier\n",
    "\n",
    "classifier = RandomForestClassifier(max_depth=2, random_state=0)\n",
    "classifier.fit(X_train, y_train)\n",
    "\n",
    "# Predicting the Test set results\n",
    "y_pred = classifier.predict(X_test)"
   ]
  },
  {
   "cell_type": "markdown",
   "metadata": {},
   "source": [
    "# Performance Evaluation : With PCA"
   ]
  },
  {
   "cell_type": "code",
   "execution_count": 25,
   "metadata": {},
   "outputs": [
    {
     "name": "stdout",
     "output_type": "stream",
     "text": [
      "[[11  0  0]\n",
      " [ 0 10  3]\n",
      " [ 0  1  5]]\n",
      "0.8666666666666667\n"
     ]
    }
   ],
   "source": [
    "cm = confusion_matrix(y_test, y_pred)\n",
    "print(cm)\n",
    "\n",
    "accuracy=accuracy_score(y_test, y_pred)\n",
    "print(accuracy)"
   ]
  },
  {
   "cell_type": "markdown",
   "metadata": {},
   "source": [
    "# Discussion"
   ]
  },
  {
   "cell_type": "raw",
   "metadata": {},
   "source": [
    "Discussion\n",
    "From the above experimentation we achieved optimal level of accuracy while significantly reducing the number of features in the dataset. We saw that accuracy achieved with only 1 principal component is equal to the accuracy achieved with will feature set i.e. 93.33%. It is also pertinent to mention that the accuracy of a classifier doesn't necessarily improve with increased number of principal components. From the results we can see that the accuracy achieved with one principal component (93.33%) was greater than the one achieved with two principal components (83.33%)."
   ]
  },
  {
   "cell_type": "markdown",
   "metadata": {},
   "source": [
    "# Extra code"
   ]
  },
  {
   "cell_type": "code",
   "execution_count": 10,
   "metadata": {},
   "outputs": [
    {
     "data": {
      "text/plain": [
       "3"
      ]
     },
     "execution_count": 10,
     "metadata": {},
     "output_type": "execute_result"
    }
   ],
   "source": [
    "from sklearn.metrics import accuracy_score\n",
    "y_pred = [0, 1, 2, 3]\n",
    "y_true = [0, 1, 2, 4]\n",
    "accuracy_score(y_true, y_pred)\n",
    "accuracy_score(y_true, y_pred, normalize=False)"
   ]
  },
  {
   "cell_type": "markdown",
   "metadata": {},
   "source": [
    "str is probably the builtin\n",
    "str_ may be numpy.str_ "
   ]
  },
  {
   "cell_type": "code",
   "execution_count": 38,
   "metadata": {},
   "outputs": [
    {
     "name": "stdout",
     "output_type": "stream",
     "text": [
      "<class 'list'>\n",
      "<class 'str'>\n",
      "-----------------------\n",
      "<class 'list'>\n",
      "<class 'str'>\n",
      "0.8333333333333334\n"
     ]
    }
   ],
   "source": [
    "#print(y_pred)\n",
    "#print(type(y_pred))\n",
    "y_pred=[str(x) for x in y_pred]\n",
    "#y_pred=np.array(y_pred)\n",
    "#print(y_pred)\n",
    "print(type(y_pred))\n",
    "print(type(y_pred[0]))\n",
    "#print(y_test)\n",
    "#print(type(y_test))\n",
    "print('-----------------------')\n",
    "y_test=[str(x) for x in y_test]\n",
    "#print(y_test)\n",
    "#y_test=np.array(y_test)\n",
    "#print(y_test)\n",
    "print(type(y_test))\n",
    "print(type(y_test[0]))\n",
    "\n",
    "accuracy=accuracy_score(y_test, y_pred)\n",
    "\n",
    "print(accuracy)\n",
    "\n",
    "#print('Accuracy' + classifier.score(X_test, y_test))"
   ]
  },
  {
   "cell_type": "code",
   "execution_count": 189,
   "metadata": {},
   "outputs": [
    {
     "name": "stdout",
     "output_type": "stream",
     "text": [
      "[0 0 2 0 1 1 2 0 2 1]\n",
      "[[1. 0. 0.]\n",
      " [1. 0. 0.]\n",
      " [0. 0. 1.]\n",
      " [1. 0. 0.]\n",
      " [0. 1. 0.]\n",
      " [0. 1. 0.]\n",
      " [0. 0. 1.]\n",
      " [1. 0. 0.]\n",
      " [0. 0. 1.]\n",
      " [0. 1. 0.]]\n"
     ]
    }
   ],
   "source": [
    "from numpy import array\n",
    "from numpy import argmax\n",
    "from sklearn.preprocessing import LabelEncoder\n",
    "from sklearn.preprocessing import OneHotEncoder\n",
    "# define example\n",
    "data = ['cold', 'cold', 'warm', 'cold', 'hot', 'hot', 'warm', 'cold', 'warm', 'hot']\n",
    "values = array(data)\n",
    "#print(values)\n",
    "# integer encode\n",
    "label_encoder = LabelEncoder()\n",
    "integer_encoded = label_encoder.fit_transform(values)\n",
    "print(integer_encoded)\n",
    "# binary encode\n",
    "onehot_encoder = OneHotEncoder(sparse=False)\n",
    "integer_encoded = integer_encoded.reshape(len(integer_encoded), 1)\n",
    "onehot_encoded = onehot_encoder.fit_transform(integer_encoded)\n",
    "print(onehot_encoded)"
   ]
  },
  {
   "cell_type": "code",
   "execution_count": 188,
   "metadata": {},
   "outputs": [
    {
     "name": "stdout",
     "output_type": "stream",
     "text": [
      "[1 0 2]\n",
      "  (0, 1)\t1.0\n",
      "  (1, 0)\t1.0\n",
      "  (2, 2)\t1.0\n"
     ]
    }
   ],
   "source": [
    "from sklearn.preprocessing import LabelEncoder\n",
    "values=['Male','Female','Street']\n",
    "label_encoder = LabelEncoder()\n",
    "integer_encoded = label_encoder.fit_transform(values)\n",
    "print(integer_encoded)\n",
    "\n",
    "from sklearn.preprocessing import OneHotEncoder\n",
    "#from sklearn.compose import ColumnTransformer \n",
    "One_hot_encoder = OneHotEncoder()\n",
    "integer_encoded = integer_encoded.reshape(len(integer_encoded), 1)\n",
    "One_hot_encoder = One_hot_encoder.fit_transform(integer_encoded)\n",
    "#One_hot_encoder = np.array(columnTransformer.fit_transform(values), dtype = np.str) \n",
    "print(One_hot_encoder)"
   ]
  },
  {
   "cell_type": "code",
   "execution_count": null,
   "metadata": {},
   "outputs": [],
   "source": []
  },
  {
   "cell_type": "code",
   "execution_count": null,
   "metadata": {},
   "outputs": [],
   "source": []
  }
 ],
 "metadata": {
  "kernelspec": {
   "display_name": "Python 3",
   "language": "python",
   "name": "python3"
  },
  "language_info": {
   "codemirror_mode": {
    "name": "ipython",
    "version": 3
   },
   "file_extension": ".py",
   "mimetype": "text/x-python",
   "name": "python",
   "nbconvert_exporter": "python",
   "pygments_lexer": "ipython3",
   "version": "3.6.5"
  }
 },
 "nbformat": 4,
 "nbformat_minor": 2
}
